{
 "cells": [
  {
   "cell_type": "code",
   "execution_count": 3,
   "id": "1677caf2",
   "metadata": {},
   "outputs": [
    {
     "name": "stdout",
     "output_type": "stream",
     "text": [
      "How many tickets: 2\n",
      "Ticket 1: {21: [26, 39, 17, 51, 11]}\n",
      "Ticket 2: {3: [42, 60, 26, 28, 44]}\n",
      "Your total: $4\n",
      "------------\n",
      "For the jackpot of $42403427 Tonight's numbers are:\n",
      "56\n",
      "68\n",
      "68\n",
      "9\n",
      "38\n",
      "and the powerball number is 3\n",
      "Enter your five numbers: 26,39,17,51,11\n",
      "Enter your powerball number: 21\n",
      "The ticket is not a winner. Would you like to enter another ticket? (Yes/No): yes\n",
      "Enter your five numbers: 56,68,68,9,38\n",
      "Enter your powerball number: 3\n",
      "Congratulations you are the winner of $42403427 ! Please visit the Lottery HQ in your state to begin the redemption process.\n"
     ]
    }
   ],
   "source": [
    "import random as rd\n",
    "\n",
    "\n",
    "\n",
    "#section for buying tickets\n",
    "ticket = 1\n",
    "powerball = {}\n",
    "ticketNo = {}\n",
    "\n",
    "amount = int(input('How many tickets: ')) #asks for amount you want to buy, will generate that amount of tickets in buy()\n",
    "\n",
    "def buy():\n",
    "    count = 0\n",
    "    while count < amount:\n",
    "        pbNumbers = [rd.randint(1,69) for i in range (5)]\n",
    "        pb = rd.randint(1,26)\n",
    "        count += 1\n",
    "        powerball = {pb : pbNumbers} #format of ticket dictionary - {powerball number : the five numbers}\n",
    "        print(f'Ticket {count}: {powerball}')\n",
    "    print(f'Your total: ${count* 2}')\n",
    "    print('------------')\n",
    "\n",
    "\n",
    "#section where the drawing is done\n",
    "def drawing():\n",
    "    global draw\n",
    "    global drawPb\n",
    "    global jackpot\n",
    "#made variables global to use elsewhere\n",
    "    jackpot = rd.randint(1000000,50000000)\n",
    "    draw = [rd.randint(1,69) for i in range (5)]\n",
    "    drawPb = rd.randint(1,26) \n",
    "    print(f'For the jackpot of ${jackpot} Tonight\\'s numbers are:')\n",
    "    for i in draw:\n",
    "        print(i)\n",
    "    print(f'and the powerball number is {drawPb}')\n",
    "\n",
    "\n",
    "\n",
    "#section for ticket scanning, uses user input of numbers from ticket to check if a winner\n",
    "def check():\n",
    "    #split enables the ability to add multiple values to the list separated by comma\n",
    "    #map allows it to be an input of integers for the list\n",
    "    five = list(map(int, input('Enter your five numbers: ').split(','))) \n",
    "    six = int(input('Enter your powerball number: '))\n",
    "    \n",
    "    if six == drawPb and sorted(five) == sorted(draw): #sorted just puts them in the same order to check\n",
    "        print(f'Congratulations you are the winner of ${jackpot} ! Please visit the Lottery HQ in your state to begin the redemption process.')\n",
    "    else:\n",
    "        cont = input('The ticket is not a winner. Would you like to enter another ticket? (Yes/No): ')\n",
    "        if cont.title() == 'Yes':\n",
    "            check() \n",
    "        \n",
    "buy()\n",
    "drawing()\n",
    "check()"
   ]
  },
  {
   "cell_type": "code",
   "execution_count": null,
   "id": "d68b974f",
   "metadata": {},
   "outputs": [],
   "source": []
  }
 ],
 "metadata": {
  "kernelspec": {
   "display_name": "Python 3 (ipykernel)",
   "language": "python",
   "name": "python3"
  },
  "language_info": {
   "codemirror_mode": {
    "name": "ipython",
    "version": 3
   },
   "file_extension": ".py",
   "mimetype": "text/x-python",
   "name": "python",
   "nbconvert_exporter": "python",
   "pygments_lexer": "ipython3",
   "version": "3.9.13"
  }
 },
 "nbformat": 4,
 "nbformat_minor": 5
}
